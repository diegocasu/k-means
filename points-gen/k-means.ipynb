{
 "cells": [
  {
   "cell_type": "code",
   "execution_count": null,
   "metadata": {},
   "outputs": [],
   "source": [
    "from pyspark import SparkContext\n",
    "sc = SparkContext(appName = \"k-means\", master='local[*]')"
   ]
  },
  {
   "cell_type": "code",
   "execution_count": null,
   "metadata": {},
   "outputs": [],
   "source": [
    "import matplotlib.pyplot as plt\n",
    "import math\n",
    "import numpy as np\n",
    "mean_number = 4\n",
    "err_distance = np.inf"
   ]
  },
  {
   "cell_type": "code",
   "execution_count": 259,
   "metadata": {},
   "outputs": [],
   "source": [
    "def cast_list(x):\n",
    "    return np.array(x,dtype=float)\n",
    "    \n",
    "import pyspark\n",
    "\n",
    "pointstxt = sc.textFile(\"/home/bruk/projects/cloud/k-means/generate_point/points.txt\")\n",
    "points = pointstxt.map(lambda x: x.split(\",\")).map(lambda x: cast_list(x))\n",
    "starting_means = points.takeSample(num = mean_number, withReplacement=False)"
   ]
  },
  {
   "cell_type": "code",
   "execution_count": 260,
   "metadata": {
    "scrolled": true
   },
   "outputs": [
    {
     "data": {
      "image/png": "[encoded data removed]",
      "text/plain": [
       "<Figure size 432x288 with 1 Axes>"
      ]
     },
     "metadata": {
      "needs_background": "light"
     },
     "output_type": "display_data"
    }
   ],
   "source": [
    "from pyspark.rdd import RDD\n",
    "def plot(entries,color='blue'):\n",
    "    x:float = []\n",
    "    y:float = []\n",
    "    if isinstance(entries, RDD):\n",
    "        points = entries.collect()\n",
    "    elif type(entries) is list:\n",
    "        points = entries\n",
    "    for point in points:\n",
    "        x.append(point[0])\n",
    "        y.append(point[1])\n",
    "\n",
    "    plt.scatter(x,y,c=color)\n",
    "    \n",
    "plot(points)\n",
    "plot(starting_means, color='black')\n",
    "plt.show()"
   ]
  },
  {
   "cell_type": "code",
   "execution_count": 271,
   "metadata": {},
   "outputs": [],
   "source": [
    "def closest_mean(point, means):\n",
    "    j = 0\n",
    "    for mean in means:\n",
    "        if j == 0:\n",
    "            shortest_distance = np.linalg.norm(np.subtract(mean,point))\n",
    "            nearest_index = j\n",
    "            j = j + 1\n",
    "        else:\n",
    "            distance = np.linalg.norm(np.subtract(mean,point))\n",
    "            if(shortest_distance > distance):\n",
    "                nearest_index = j\n",
    "            j = j + 1           \n",
    "    return nearest_index"
   ]
  },
  {
   "cell_type": "code",
   "execution_count": 276,
   "metadata": {},
   "outputs": [
    {
     "name": "stdout",
     "output_type": "stream",
     "text": [
      " means num  4  error  972.7214509422292\n",
      " means num  3  error  991.2508076013935\n",
      " means num  3  error  992.4671910956445\n",
      "[5.12802089 8.23511668]\n",
      "[6.68824208 2.72288624]\n",
      "[9.0849541  7.45496704]\n"
     ]
    },
    {
     "data": {
      "image/png": "[encoded data removed]",
      "text/plain": [
       "<Figure size 432x288 with 1 Axes>"
      ]
     },
     "metadata": {
      "needs_background": "light"
     },
     "output_type": "display_data"
    }
   ],
   "source": [
    "def shortest_distance(point, means):\n",
    "    j = 0\n",
    "    for mean in means:\n",
    "        if j == 0:\n",
    "            shortest_distance = np.linalg.norm(np.subtract(mean,point))\n",
    "            j = j + 1\n",
    "        else:\n",
    "            distance = np.linalg.norm(np.subtract(mean,point))\n",
    "            if(shortest_distance > distance):\n",
    "                short_distance = distance\n",
    "            j = j + 1        \n",
    "    return shortest_distance\n",
    "\n",
    "i = 0\n",
    "interm_means = sc.broadcast(starting_means)\n",
    "while True:\n",
    "    prev_errDist = err_distance\n",
    "    new_means = points.keyBy(lambda x: closest_mean(x, interm_means.value)) \\\n",
    "                                 .reduceByKey(lambda x, y: np.average(np.array([x, y]), axis=0)).values().collect()\n",
    "\n",
    "    temp = points.map(lambda x:shortest_distance(x, interm_means.value))\n",
    "    err_distance = temp.reduce(lambda x,y:x+y)\n",
    "    \n",
    "    i += 1\n",
    "    if i > 0:\n",
    "        interm_means = sc.broadcast(new_means)\n",
    "    print(\" means num \", len(interm_means.value), \" error \", err_distance) \n",
    "    if(i > 1 and math.fabs(prev_errDist - err_distance) < 0.01*prev_errDist):\n",
    "        plot(new_means,color = 'red')\n",
    "        for i in new_means:\n",
    "            print(i)\n",
    "        break\n",
    "        \n",
    "        \n",
    "plt.show()"
   ]
  },
  {
   "cell_type": "code",
   "execution_count": null,
   "metadata": {},
   "outputs": [],
   "source": []
  },
  {
   "cell_type": "markdown",
   "metadata": {},
   "source": [
    "###  small testing codes for minimal experiments"
   ]
  },
  {
   "cell_type": "code",
   "execution_count": null,
   "metadata": {},
   "outputs": [],
   "source": [
    "new_means = points.map(lambda x:(closest_mean(x, interm_means.value), x))\\\n",
    "        .reduceByKey(lambda x,y: np.average(np.array([x,y]),axis=0)) \\\n",
    "        .values().collect()\n",
    "print(new_means)\n",
    "#temp = new_means.reduceByKey(lambda x, y: (x + y)/2)\n",
    "#print(temp.collect())\n",
    "#print(new_means.take(10))"
   ]
  },
  {
   "cell_type": "code",
   "execution_count": 226,
   "metadata": {},
   "outputs": [
    {
     "name": "stdout",
     "output_type": "stream",
     "text": [
      "[3. 4.]\n",
      "[0. 0.]\n",
      "10.0\n"
     ]
    }
   ],
   "source": [
    "import numpy as np\n",
    "x = np.array([0,0],dtype=float)\n",
    "y = np.array([3,4],dtype=float)\n",
    "z = np.array([-3,-4],dtype=float)\n",
    "dist = np.linalg.norm(np.subtract(z,y))\n",
    "mean = np.average(np.array([x, y, z]),axis=0)\n",
    "print(y)\n",
    "print(mean)\n",
    "print(dist)"
   ]
  },
  {
   "cell_type": "code",
   "execution_count": null,
   "metadata": {},
   "outputs": [],
   "source": []
  }
 ],
 "metadata": {
  "kernelspec": {
   "display_name": "Python 3",
   "language": "python",
   "name": "python3"
  },
  "language_info": {
   "codemirror_mode": {
    "name": "ipython",
    "version": 3
   },
   "file_extension": ".py",
   "mimetype": "text/x-python",
   "name": "python",
   "nbconvert_exporter": "python",
   "pygments_lexer": "ipython3",
   "version": "3.6.9"
  }
 },
 "nbformat": 4,
 "nbformat_minor": 2
}
