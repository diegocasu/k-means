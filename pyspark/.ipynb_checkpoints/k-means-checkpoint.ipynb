{
 "cells": [
  {
   "cell_type": "markdown",
   "metadata": {},
   "source": [
    "## k-means clustring notes"
   ]
  },
  {
   "cell_type": "markdown",
   "metadata": {},
   "source": [
    "#### k-means clustering random mean selection"
   ]
  },
  {
   "cell_type": "code",
   "execution_count": null,
   "metadata": {},
   "outputs": [],
   "source": []
  },
  {
   "cell_type": "code",
   "execution_count": 1,
   "metadata": {},
   "outputs": [
    {
     "name": "stdout",
     "output_type": "stream",
     "text": [
      "[[9.247, 8.773], [8.871, 7.799], [0.452, 3.253], [4.319, 2.912]]\n"
     ]
    }
   ],
   "source": [
    "#for casting the points in the input from string to float\n",
    "def cast_list(x):\n",
    "    Y = []\n",
    "    for i in x:\n",
    "        Y.append(float(i))\n",
    "    return Y\n",
    "\n",
    "#input file name\n",
    "INPUT_FILE = \"points.txt\"\n",
    "#number of means/clusters\n",
    "MEANS_N = 4\n",
    "\n",
    "pointstxt = sc.textFile(\"./\" + INPUT_FILE)\n",
    "points_list = pointstxt.map(lambda x: x.split(\",\"))\n",
    "points = points_list.map(lambda x: cast_list(x))\n",
    "means = points.takeSample(num = MEANS_N, withReplacement=False)\n",
    "print(means)"
   ]
  },
  {
   "cell_type": "markdown",
   "metadata": {},
   "source": [
    "#### k-means new means calculation"
   ]
  },
  {
   "cell_type": "code",
   "execution_count": null,
   "metadata": {},
   "outputs": [],
   "source": []
  },
  {
   "cell_type": "markdown",
   "metadata": {},
   "source": [
    "### k-means distance calculation"
   ]
  },
  {
   "cell_type": "code",
   "execution_count": null,
   "metadata": {},
   "outputs": [],
   "source": []
  },
  {
   "cell_type": "markdown",
   "metadata": {},
   "source": []
  }
 ],
 "metadata": {
  "kernelspec": {
   "display_name": "Python 3",
   "language": "python",
   "name": "python3"
  },
  "language_info": {
   "codemirror_mode": {
    "name": "ipython",
    "version": 3
   },
   "file_extension": ".py",
   "mimetype": "text/x-python",
   "name": "python",
   "nbconvert_exporter": "python",
   "pygments_lexer": "ipython3",
   "version": "3.6.9"
  }
 },
 "nbformat": 4,
 "nbformat_minor": 2
}
